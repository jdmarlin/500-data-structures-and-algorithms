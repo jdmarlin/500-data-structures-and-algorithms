{
 "cells": [
  {
   "cell_type": "markdown",
   "metadata": {},
   "source": [
    "# Find pair with given sum array\n",
    "Given an unsorted array of integers, find a pair with given sum in it.\n",
    "\n",
    "For example,\n",
    "\n",
    "**`Input:`** <br/>\n",
    "`\n",
    "arr = [8, 7, 2, 5, 3, 1]\n",
    "sum = 10\n",
    "`\n",
    "\n",
    "**`Output:`** <br/>\n",
    "`\n",
    "Pair found at index 0 and 2 (8 + 2)\n",
    "OR\n",
    "Pair found at index 1 and 4 (7 + 3)\n",
    "`"
   ]
  },
  {
   "cell_type": "markdown",
   "metadata": {},
   "source": [
    "### 1. Naive Approach: `O(n^2)`\n",
    "Loop through every single pair"
   ]
  },
  {
   "cell_type": "code",
   "execution_count": 115,
   "metadata": {
    "collapsed": true
   },
   "outputs": [],
   "source": [
    "def find_pair(arr, sum):\n",
    "    n = len(arr)\n",
    "    for i in range(n):\n",
    "        for j in range(i + 1, n):\n",
    "            if arr[i] + arr[j] == sum:\n",
    "                print('Pair found at index %d and %d (%d + %d)' \n",
    "                      % (i, j, arr[i], arr[j]))\n",
    "                return\n",
    "    print('Pair not found :(')\n",
    "    return"
   ]
  },
  {
   "cell_type": "code",
   "execution_count": 116,
   "metadata": {},
   "outputs": [
    {
     "name": "stdout",
     "output_type": "stream",
     "text": [
      "Pair found at index 0 and 2 (8 + 2)\n"
     ]
    }
   ],
   "source": [
    "arr = [8, 7, 2, 5, 3, 1]\n",
    "sum = 10\n",
    "\n",
    "find_pair(arr, sum)"
   ]
  },
  {
   "cell_type": "markdown",
   "metadata": {},
   "source": [
    "### 2. Sorting Approach: `O(nlogn)`\n",
    "Sort the array and set two pointers at each end of the sorted array. Then move the low/high pointer if the sum of the two pointers is less than/greater than the given sum"
   ]
  },
  {
   "cell_type": "code",
   "execution_count": 195,
   "metadata": {},
   "outputs": [],
   "source": [
    "def find_pair(arr, sum):\n",
    "    arr.sort()\n",
    "    \n",
    "    print('Sorted array:', arr)\n",
    "    \n",
    "    i = 0\n",
    "    j = len(arr) - 1\n",
    "    \n",
    "    while i < j:\n",
    "        if arr[i] + arr[j] == sum:\n",
    "            print('Pair found at index %d and %d (%d + %d)' \n",
    "            % (i, j, arr[i], arr[j]))\n",
    "            return\n",
    "        \n",
    "        if arr[i] + arr[j] < sum:\n",
    "            i += 1\n",
    "        else:\n",
    "            j -= 1\n",
    "            \n",
    "    print('Pair not found :(') \n",
    "    return\n"
   ]
  },
  {
   "cell_type": "code",
   "execution_count": 196,
   "metadata": {},
   "outputs": [
    {
     "name": "stdout",
     "output_type": "stream",
     "text": [
      "Sorted array: [1, 2, 3, 5, 7, 8]\n",
      "Pair found at index 1 and 5 (2 + 8)\n"
     ]
    }
   ],
   "source": [
    "arr = [8, 7, 2, 5, 3, 1]\n",
    "sum = 10\n",
    "\n",
    "find_pair(arr, sum)"
   ]
  },
  {
   "cell_type": "markdown",
   "metadata": {},
   "source": [
    "### 3. Hashing Approach `O(n)`\n",
    "Insert each `element` into a map and check if the `element` or `sum - arr[i]` exists"
   ]
  },
  {
   "cell_type": "code",
   "execution_count": 193,
   "metadata": {},
   "outputs": [],
   "source": [
    "def find_pair(arr, sum):\n",
    "    hash_table = {}\n",
    "    \n",
    "    for key in arr:\n",
    "        value = sum - key\n",
    "        if (key in hash_table) or (value in hash_table):\n",
    "            print('Pair found (%d + %d)' % (key, value))\n",
    "        else:\n",
    "            hash_table[key] = sum - key"
   ]
  },
  {
   "cell_type": "code",
   "execution_count": 194,
   "metadata": {},
   "outputs": [
    {
     "name": "stdout",
     "output_type": "stream",
     "text": [
      "Pair found (2 + 8)\n",
      "Pair found (3 + 7)\n"
     ]
    }
   ],
   "source": [
    "arr = [8, 7, 2, 5, 3, 1]\n",
    "sum = 10\n",
    "\n",
    "find_pair(arr, sum)"
   ]
  }
 ],
 "metadata": {
  "kernelspec": {
   "display_name": "Python 3",
   "language": "python",
   "name": "python3"
  },
  "language_info": {
   "codemirror_mode": {
    "name": "ipython",
    "version": 3
   },
   "file_extension": ".py",
   "mimetype": "text/x-python",
   "name": "python",
   "nbconvert_exporter": "python",
   "pygments_lexer": "ipython3",
   "version": "3.6.2"
  }
 },
 "nbformat": 4,
 "nbformat_minor": 2
}
