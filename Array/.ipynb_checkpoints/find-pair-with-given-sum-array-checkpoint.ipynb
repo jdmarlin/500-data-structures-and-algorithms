{
 "cells": [
  {
   "cell_type": "markdown",
   "metadata": {},
   "source": [
    "# Find pair with given sum array\n",
    "Given an unsorted array of integers, find a pair with given sum in it.\n",
    "\n",
    "For example,\n",
    "\n",
    "**`Input:`** <br/>\n",
    "`\n",
    "arr = [8, 7, 2, 5, 3, 1]\n",
    "sum = 10\n",
    "`\n",
    "\n",
    "**`Output:`** <br/>\n",
    "`\n",
    "Pair found at index 0 and 2 (8 + 2)\n",
    "OR\n",
    "Pair found at index 1 and 4 (7 + 3)\n",
    "`"
   ]
  },
  {
   "cell_type": "markdown",
   "metadata": {},
   "source": [
    "### 1. Naive Approach"
   ]
  },
  {
   "cell_type": "code",
   "execution_count": null,
   "metadata": {
    "collapsed": true
   },
   "outputs": [],
   "source": []
  }
 ],
 "metadata": {
  "kernelspec": {
   "display_name": "Python 3",
   "language": "python",
   "name": "python3"
  },
  "language_info": {
   "codemirror_mode": {
    "name": "ipython",
    "version": 3
   },
   "file_extension": ".py",
   "mimetype": "text/x-python",
   "name": "python",
   "nbconvert_exporter": "python",
   "pygments_lexer": "ipython3",
   "version": "3.6.2"
  }
 },
 "nbformat": 4,
 "nbformat_minor": 2
}
